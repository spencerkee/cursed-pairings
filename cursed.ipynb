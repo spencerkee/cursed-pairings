{
 "cells": [
  {
   "cell_type": "code",
   "execution_count": null,
   "metadata": {
    "vscode": {
     "languageId": "plaintext"
    }
   },
   "outputs": [],
   "source": [
    "import pandas as pd\n",
    "import networkx as nx\n",
    "from gensim.models import Word2Vec\n",
    "import stellargraph as sg\n",
    "from stellargraph.data import BiasedRandomWalk\n",
    "import os\n",
    "import zipfile\n",
    "import numpy as np\n",
    "import matplotlib as plt\n",
    "from sklearn.manifold import TSNE\n",
    "from sklearn.metrics.pairwise import pairwise_distances\n",
    "from IPython.display import display, HTML\n",
    "import matplotlib.pyplot as plt\n",
    "import igraph as ig\n",
    "%matplotlib inline\n",
    "\n",
    "# read csv data\n",
    "graph_data = pd.read_csv('../data/capital_bikes/graph_data_full.csv')\n",
    "\n",
    "# instantiate a directed graph with our edge list\n",
    "graph_bikes = sg.StellarDiGraph(edges = graph_data)\n",
    "\n",
    "# check that the attributes are correctly loaded\n",
    "graph_bikes.info()"
   ]
  },
  {
   "cell_type": "code",
   "execution_count": null,
   "metadata": {
    "vscode": {
     "languageId": "plaintext"
    }
   },
   "outputs": [],
   "source": []
  }
 ],
 "metadata": {
  "language_info": {
   "name": "python"
  }
 },
 "nbformat": 4,
 "nbformat_minor": 2
}
